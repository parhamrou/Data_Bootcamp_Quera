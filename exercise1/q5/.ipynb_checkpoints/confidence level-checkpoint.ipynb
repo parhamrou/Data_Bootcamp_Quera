{
 "cells": [
  {
   "cell_type": "markdown",
   "metadata": {},
   "source": [
    "<div style=\"direction:rtl;line-height:300%;\">\n",
    "\t<font face=\"XB Zar\" size=5>\n",
    "\t\t<div align=center>\n",
    "\t\t\t<font face=\"IranNastaliq\" size=30>\n",
    "\t\t\t\t<p></p>\n",
    "\t\t\t\t<p></p>\n",
    "به نام خدا\n",
    "\t\t\t\t<p></p>\n",
    "\t\t\t</font>\n",
    "\t\t</div>\n",
    "\t\t<hr/>\n",
    "\t\t<font color=#43a8a5 size=6>\n",
    "\t\t\t<br />\n",
    "\t\t\t<div align=center>\n",
    "تخمین نمرات دانشجویان\n",
    "            </div>\n",
    "\t\t</font>\n",
    "\t\t<br />\n",
    "\t\t<hr />\n",
    "\t\t<style type=\"text/css\" scoped>\n",
    "        p{\n",
    "        border: 1px solid #a2a9b1;background-color: #f8f9fa;display: inline-block;\n",
    "        };\n",
    "        </style>\n",
    "\t</font>\n",
    "</div>"
   ]
  },
  {
   "cell_type": "markdown",
   "metadata": {},
   "source": [
    "<p></p>\n",
    "<br />\n",
    "<div id=\"sec_1\" style=\"direction:rtl;line-height:300%;text-align:justify\">\n",
    "   <font face=\"XB Zar\" size=5>\n",
    "      <font color=#FF7500 size=6>\n",
    "      چارک‌های نرمال استاندارد\n",
    "      </font>\n",
    "      <p></p>\n",
    "      <hr>\n",
    "      برای درک بهتر بازه‌های اطمینان از چند تعریف شروع می‌کنیم. متغیر تصادفی نرمال استاندارد را $Z$، و تابع توزیع تجمعی آن را $\\Phi$ بنامید. $z_\\alpha$ را به ازای $0<\\alpha<1$ تعریف می‌کنیم\n",
    "      $$P(Z>z_\\alpha)=\\alpha$$ که معادل است با $$P(Z\\le z_\\alpha)=1-\\alpha$$\n",
    "      بنابراین داریم\n",
    "      $$z_\\alpha=\\Phi^{-1}(1-\\alpha).$$\n",
    "      این مقدار که چارک نرمال استاندارد نام دارد در توابع پایتون نیز موجود است. به دلیل قرینه بودن نرمال استاندارد نسبت به محور $y$ می‌توانیم از خواص زیر استفاده کنیم\n",
    "      $$P(Z<-z_\\alpha)=P(Z>z_\\alpha)=\\alpha, \\qquad P(|Z|>z_\\alpha)=2\\alpha$$\n",
    "      بنابراین خواهیم داشت\n",
    "      $$P(-z_\\alpha \\le Z \\le z_\\alpha)= 1-2\\alpha$$\n",
    "      که معمولا رابطه‌ی بالا را به صورت زیر می‌نویسند\n",
    "      $$P(-z_{\\alpha/2} \\le Z \\le z_{\\alpha/2})= 1-\\alpha.$$\n",
    "      در زیر می‌توانید چند مقدار رایج از آلفا و بازه‌های اطمینان آن را مشاهده کنید.\n",
    "      </pre>\n",
    "   </font>\n",
    "</div>"
   ]
  },
  {
   "cell_type": "code",
   "execution_count": 3,
   "metadata": {},
   "outputs": [
    {
     "name": "stdout",
     "output_type": "stream",
     "text": [
      "z_alpha values are: [-1.28 -1.64 -1.96 -2.33 -2.58]\n",
      "1-2alpha values are: [0.8  0.9  0.95 0.98 0.99]\n"
     ]
    }
   ],
   "source": [
    "from scipy.stats import norm\n",
    "import numpy as np\n",
    "\n",
    "alpha = np.array([0.1 , 0.05 , 0.025, 0.01, 0.005])\n",
    "z_alpha = np.round(norm.ppf(alpha),2)\n",
    "\n",
    "print(\"z_alpha values are: \"+str(z_alpha))\n",
    "print(\"1-2alpha values are: \"+str(1 - 2*alpha))"
   ]
  },
  {
   "cell_type": "code",
   "execution_count": 4,
   "metadata": {},
   "outputs": [
    {
     "data": {
      "image/png": "[encoded data removed]",
      "text/plain": [
       "<Figure size 432x288 with 1 Axes>"
      ]
     },
     "metadata": {
      "needs_background": "light"
     },
     "output_type": "display_data"
    }
   ],
   "source": [
    "import matplotlib.pyplot as plt\n",
    "%matplotlib inline\n",
    "\n",
    "mean = 0\n",
    "sd = 1\n",
    "\n",
    "x = np.arange(-3.5,3.5,step = 0.001)*sd + mean\n",
    "y = norm.pdf(x,mean,sd)\n",
    "\n",
    "plt.plot(x,y)\n",
    "plt.fill(np.append(x[x >= 1.96],1.96),np.append(y[x >= 1.96],0),label = \"X>1.96\",alpha = 1)\n",
    "plt.fill(np.concatenate(([1.64],x[(x >= 1.64) & (x <= 1.96)],[1.96])),np.concatenate(([0],y[(x >= 1.64) & (x <= 1.96)],[0])),label = \"X>1.64\",alpha = 0.3 )\n",
    "plt.fill(np.concatenate(([1.28],x[(x >= 1.28) & (x <= 1.64)],[1.64])),np.concatenate(([0],y[(x >= 1.28) & (x <= 1.64)],[0])),label = \"X>1.28\",alpha = 0.3 )\n",
    "plt.xlabel(\"x\")\n",
    "plt.ylabel(\"y\")\n",
    "plt.legend()\n",
    "plt.show()\n"
   ]
  },
  {
   "cell_type": "markdown",
   "metadata": {},
   "source": [
    "<p></p>\n",
    "<br />\n",
    "<div id=\"sec_1\" style=\"direction:rtl;line-height:300%;\">\n",
    "   <font face=\"XB Zar\" size=5>\n",
    "      <font color=#FF7500 size=6>\n",
    "      </font>\n",
    "      <p></p>\n",
    "      <hr>\n",
    "      مساحت\n",
    "      ناحیه‌های هاشور خورده در شکل بالا احتمال رخدادهای نوشته شده کنار شکل را نشان می‌دهند. \n",
    "   </font>\n",
    "</div>\n"
   ]
  },
  {
   "cell_type": "markdown",
   "metadata": {},
   "source": [
    "<p></p>\n",
    "<br />\n",
    "<div id=\"sec_2\" style=\"direction:rtl;line-height:300%;text-align:justify\">\n",
    "   <font face=\"XB Zar\" size=5>\n",
    "      <font color=#FF7500 size=6>\n",
    "      بازه‌های اطمینان\n",
    "      </font>\n",
    "      <p></p>\n",
    "      <hr>\n",
    "      حال به مبحث تخمین بازه‌ای برمی‌گردیم. می‌دانیم که تخمین بیشینه درستنمایی\n",
    "      برای پارامتر میانگین $\\mu$ برابر است با میانگین نمونه‌ای $\\overline x=\\sum _i x_i /n$، اما این تخمین چقدر دقیق است؟\n",
    "      <br/>\n",
    "      اگر داده‌های ما به صورت مستقل و یکسان توزیع‌شده (iid) از توزیع  نرمال به دست آمده باشند داریم\n",
    "      $$\\hat{\\mu}_{MLE}=\\frac{X_1+...+X_n}{n}\\sim N(\\mu, \\sigma^2/n)$$\n",
    "      با استاندارد کردن $\\hat{\\mu}$ داریم\n",
    "      $$\\frac{\\hat{\\mu}-\\mu}{\\sigma/\\sqrt{n}} \\sim N(0,1).$$\n",
    "      طبق تعریفی که از چارک‌های نرمال استاندارد داشتیم می‌توانیم توزیع بالا را در این رابطه قرار دهیم و داشته باشیم\n",
    "      $$ P(-z_{\\alpha/2} \\le \\frac{\\hat{\\mu}-\\mu}{\\sigma/\\sqrt{n}} \\le z_{\\alpha/2})= 1-\\alpha.$$\n",
    "      که معادل است با\n",
    "      $$ P(\\hat{\\mu}-(z_{\\alpha/2}\\times \\frac{\\sigma}{\\sqrt{n}}) \\le \\mu \\le \\hat{\\mu}+(z_{\\alpha/2}\\times \\frac{\\sigma}{\\sqrt{n}}))= 1-\\alpha.$$\n",
    "      یعنی احتمال اینکه پارامتر $\\mu$ در بازه‌ی بالا باشد $1-\\alpha$ است که به زبان ریاضی معادل است با\n",
    "      $$P(\\mu \\in [\\hat{\\mu}-(z_{\\alpha/2} \\times \\frac{\\sigma}{\\sqrt{n}}), \\hat{\\mu}+ (z_{\\alpha/2}\\times \\frac{\\sigma}{\\sqrt{n}})])= 1-\\alpha.$$\n",
    "      به بازه‌ی $[\\hat{\\mu}-z_{\\alpha/2}\\times \\frac{\\sigma}{\\sqrt{n}}, \\hat{\\mu}+ z_{\\alpha/2}\\times \\frac{\\sigma}{\\sqrt{n}}]$ یک بازه‌ی اطمینان برای پارامتر $\\mu$ می‌گویند. \n",
    "   </font>\n",
    "</div>"
   ]
  },
  {
   "cell_type": "markdown",
   "metadata": {},
   "source": [
    "<p></p>\n",
    "<br />\n",
    "<div id=\"sec_4\" style=\"direction:rtl;line-height:300%;text-align:justify\">\n",
    "   <font face=\"XB Zar\" size=5>\n",
    "      <font color=#FF7500 size=6>\n",
    "      تخمین بازه اطمینان میانگین با واریانس نمونه‌ای\n",
    "      </font>\n",
    "      <p></p>\n",
    "      <hr>\n",
    "      برای محاسبه‌ی یک بازه‌ی اطیمنان با خطای\n",
    "\t$ \\alpha $\n",
    "\tبرای پارامتر\n",
    "\t$ \\mu $\n",
    "\tدر جمعیت، می‌توانیم از رابطه‌ی زیر استفاده کنیم:\n",
    "    <br>\n",
    "    $$\t\t\\hat{\\mu}-z_{\\alpha/2}\\frac{\\sigma}{\\sqrt{n}} \\leq \\mu \\leq \\hat{\\mu}+z_{\\alpha/2}\\frac{\\sigma}{\\sqrt{n}}  $$\n",
    "    به این معنی که بازه‌ی بالا به احتمال\n",
    "\t$ 1-\\alpha $\n",
    "\tشامل پارامتر\n",
    "\t$ \\theta $\n",
    "\tاست. در این رابطه\n",
    "\t$ \\sigma $\n",
    "\tنشان دهنده‌ی انحراف معیار جامعه است اما می‌دانیم  که در عمل به انحراف معیار جامعه دسترسی نداریم و مقدار عددی آن را نمی‌دانیم. بنابراین در عمل برای محاسبه‌ی بازه‌ی اطمینان، به جای\n",
    "\t$ \\sigma $\n",
    "\tکه مربوط به جمعیت است، از\n",
    "\t$ S $\n",
    "\tکه انحراف معیار نمونه‌ای است استفاده می‌کنیم. همان‌طور که انتظار می‌رود این کار باعث ایجاد منبعی جدی از عدم قطعیت در تخمین‌مان می‌شود. برای رفع این مشکل، به جای استفاده از توزیع نرمال در فرمول بالا، از توزیعی موسوم به توزیع تی استیودنت استفاده می‌شود.\n",
    "    <br>\n",
    "    توزیع تی استیودنت نسبت به توزیع نرمال دم پهن‌تری دارد و به همین دلیل کمک می‌کند که در محاسبه بازه‌های اطمینان تخمینی، عدم قطعیت واریانس نمونه‌ای را نیز لحاظ کند. توزیع\n",
    "\t$ t $\n",
    "\tبه تعداد نمونه‌ها وابسته است. یعنی به ازای تعداد هر تعداد نمونه، توزیع t توزیعی مخصوص دارد.(پارامتر توزیع t که شکل آن را تعیین می‌کند، درجه آزادی نام دارد.) برای پیدا کردن یک بازه‌ی اطمینان برای پارامتری از جامعه از روی یک داده به حجم\n",
    "\t$ n $\n",
    "\tاز توزیع\n",
    "\t$ t $\n",
    "\tبا درجه آزادی\n",
    "\t$ n-1 $\n",
    "\tاستفاده می‌کنیم.\n",
    "    <br>\n",
    "    بنابراین بازه‌ی اطمینان به شکل زیر تغییر پیدا می‌کند:\n",
    "\t\\begin{equation*}\n",
    "\t\t\\hat{\\mu}-t_{\\alpha/2}\\frac{s}{\\sqrt{n}} \\leq \\mu \\leq \\hat{\\mu}+t_{\\alpha/2}\\frac{s}{\\sqrt{n}} \n",
    "\t\\end{equation*}\n",
    "\tالبته وقتی\n",
    "\t$ n $\n",
    "\tبزرگ باشد (مثلا بزرگتر از ۱۰۰) توزیع\n",
    "\t$ t $\n",
    "\tبسیار شبیه توزیع نرمال خواهد شد.\n",
    "    <br>\n",
    "    در زیر می‌توانید چند مقدار رایج از آلفا و بازه‌های اطمینان آن را برای توزیع t با ۵۰ درجه آزادی مشاهده کنید.\n",
    "   </font>\n",
    "</div>"
   ]
  },
  {
   "cell_type": "code",
   "execution_count": 5,
   "metadata": {},
   "outputs": [
    {
     "name": "stdout",
     "output_type": "stream",
     "text": [
      "t_alpha values are: [-1.3  -1.68 -2.01 -2.4  -2.68]\n",
      "1-2alpha values are: [0.8  0.9  0.95 0.98 0.99]\n"
     ]
    }
   ],
   "source": [
    "from scipy.stats import t\n",
    "import numpy as np\n",
    "\n",
    "alpha = np.array([0.1 , 0.05 , 0.025, 0.01, 0.005])\n",
    "t_alpha = np.round(t.ppf(alpha,50),2)\n",
    "\n",
    "print(\"t_alpha values are: \"+str(t_alpha))\n",
    "print(\"1-2alpha values are: \"+str(1 - 2*alpha))"
   ]
  },
  {
   "cell_type": "markdown",
   "metadata": {},
   "source": [
    "<br>\n",
    "<div id=\"sec_intro\" style=\"direction:rtl;line-height:300%;\">\n",
    "\t<font face=\"XB Zar\" size=5>\n",
    "        در این تمرین، با مجموعه داده معدل‌های تعدادی از دانشجویان سال دومی دانشگاه شریف کار می‌کنیم.(داده‌ها واقعی نیستند)\n",
    "<br>\n",
    "نمونه‌برداری داده‌ها به این صورت است که یکی از گروه‌های تحقیقاتی دانشگاه، تصمیم گرفته است تحقیقی را درباره معدل‌های دانشجویان سال اولی در ترم اول و دوم انجام دهد. اما پس از تلاش‌های بسیار، معاونت آموزشی دانشگاه اطلاعات دانشجویان را در اختیار آنان قرار نداده. برای همین اعضای این گروه تحقیقاتی تصمیم گرفتند تا با نمونه‌برداری تصادفی، بیست نفر از دانشجویانی را که سال اول خود را به اتمام رسانده‌اند، انتخاب کنند و معدل ترم اول و دوم‌شان را بپرسند.(فرض می‌کنیم دانشجویان صادق هستند و فرآیند نمونه‌برداری نیز کاملا تصادفی و با جای‌گذاری بوده است.)\n",
    "<br>\n",
    "خروجی این تحقیق سه لیست شامل s1(نمرات ترم اول دلنشویان)، s2(نمرات ترم دوم دانشجویان) و gender  شامل جنسیت دانشحویان می‌شود.\n",
    "<br>\n",
    "برای مشاهده چند سطر اول داده، از دستور head استفاده می‌کنیم.\n",
    "</font>\n",
    "</div>"
   ]
  },
  {
   "cell_type": "code",
   "execution_count": 1,
   "metadata": {},
   "outputs": [],
   "source": [
    "s1=[16.01,12.69,15.32,15.58,14.52,14.05,13.57,19.35,14.31,13.48,14.23,14.43,16.61,15.13,16.45,14.79,15.68,13.13,14.67,17.63]\n",
    "s2=[14.89,15.79,16.32,15.32,14.53,15.53,14.58,15.03,14.1,14.41,17.04,16.46,14.58,14.3,16.48,16.92,15.59,15.67,15.11,15.4]\n",
    "gender=['M','M','M','F','M','F','F','F','M','M','F','M','M','M','F','M','M','F','M','F']\n"
   ]
  },
  {
   "cell_type": "markdown",
   "metadata": {},
   "source": [
    "<div style=\"direction:rtl;line-height:300%;\">\n",
    "\t<font face=\"XB Zar\" size=5>\n",
    "در این داده سه لیست وجود دارد.  لیست اول، جنسیت دانشجوست(دانشجویان مذکر با M و دانشجویان مونث با F نشان داده‌شده‌اند.) لیست دوم معدل ترم اول و لیست سوم معدل ترم دوم دانشجویان است.\n",
    "<br>\n",
    "این گروه تحقیقاتی می‌خواهد تا بر اساس این داده، با سطح اطمینان نود درصد، بازه اطمینانی برای معدل ترم یک و ترم دو دانشجویان سال اولی بیابد و شما برای کسب امتیاز این تمرین، باید در این مسیر به آنان کمک کنید.\n",
    "<br>\n",
    "ابتدا بازه اطمینان مناسب برای معدل ترم اول دانشجویان را با سطح اطمینان نود درصد حساب کنید. ابتدای این بازه را در متغیر s1_start و انتهای این بازه را در متغیر s1_end بریزید.\n",
    "        <br>\n",
    "سپس همین محاسبه را برای معدل ترم دوم دانشجویان انجام دهید و خروجی‌های لازم را در متغیرهای مربوط بریزید.\n",
    "\n",
    "راهنمایی: برای محاسبه انحراف معیار از کتابخانه statistics و تابع stdev می‌توان استفاده کرد.\n",
    "همچنین برای محاسبه بازه اطمینان از توزیع t در کتابخانه scipy می‌توان استفاده کرد.\n",
    "   </font>\n",
    "</div>"
   ]
  },
  {
   "cell_type": "code",
   "execution_count": 2,
   "metadata": {},
   "outputs": [],
   "source": [
    "from scipy.stats import t\n",
    "from statistics import stdev\n"
   ]
  },
  {
   "cell_type": "code",
   "execution_count": 2,
   "metadata": {},
   "outputs": [],
   "source": [
    "s1_start = (sum(s1) / len(s1)) + \n",
    "s1_end = #ToDo\n",
    "s1_confidence_interval = [s1_start,s1_end]\n",
    "print(s1_confidence_interval)"
   ]
  },
  {
   "cell_type": "code",
   "execution_count": null,
   "metadata": {},
   "outputs": [],
   "source": [
    "s2_start = #ToDO\n",
    "s2_end = #ToDO\n",
    "s2_confidence_interval = [s2_start,s2_end]\n",
    "print(s2_confidence_interval)"
   ]
  },
  {
   "cell_type": "markdown",
   "metadata": {},
   "source": [
    "<br>\n",
    "<div id=\"sec_whatisR\" style=\"direction:rtl;line-height:300%;\">\n",
    "\t<font face=\"XB Zar\" size=5>\n",
    "        <font color=#000000 size=5>\n",
    "            این گروه تحقیقاتی، می‌خواهد تخمینی از نسبت دانشجویان پسر و دختر در جامعه دانشجویان ورودی داشته باشد. برای این کار بازه اطمینانی از نسبت دانشجویان پسر دانشگاه با سطح اطمینان نود و پنج درصد، تخمین بزنید و ابتدا و انتهای بازه را در متغیرهای gender_start و gender_end بریزید.\n",
    "\t</font>\n",
    "        \n",
    "</div>"
   ]
  },
  {
   "cell_type": "code",
   "execution_count": 3,
   "metadata": {},
   "outputs": [],
   "source": [
    "gender_start = #ToDO\n",
    "gender_end = #ToDO\n",
    "gender_confidence_interval = [gender_start,gender_end]\n",
    "print(gender_confidence_interval)"
   ]
  },
  {
   "cell_type": "markdown",
   "metadata": {},
   "source": [
    "<br>\n",
    "<div id=\"sec_whatisR\" style=\"direction:rtl;line-height:300%;\">\n",
    "<font face=\"XB Zar\" size=5>\n",
    "        <font color=#000000 size=5>\n",
    "با اجرای دستور زیر، آرایه‌ها را ذخیره کنید تا پاسخ‌های‌تان ارزیابی شود.\n",
    "</font>\n",
    "        \n",
    "</div>"
   ]
  },
  {
   "cell_type": "code",
   "execution_count": null,
   "metadata": {},
   "outputs": [],
   "source": [
    "np.savez(\"answers.npz\",gender_confidence_interval = gender_confidence_interval,s1_confidence_interval = s1_confidence_interval,s2_confidence_interval = s2_confidence_interval)"
   ]
  },
  {
   "cell_type": "markdown",
   "metadata": {},
   "source": [
    "پس از ذخیره کردن ادیتور جوپیتر\n",
    "کد زیر را اجرا کنید تا فایل زیپ پاسخ برای شما ساخته شود،\n",
    "سپس فایل زیپ را در سامانه ارسال کنید.\n"
   ]
  },
  {
   "cell_type": "code",
   "execution_count": null,
   "metadata": {},
   "outputs": [],
   "source": [
    "import zlib\n",
    "import zipfile\n",
    "\n",
    "\n",
    "def compress(file_names):\n",
    "    print(\"File Paths:\")\n",
    "    print(file_names)\n",
    "    # Select the compression mode ZIP_DEFLATED for compression\n",
    "    # or zipfile.ZIP_STORED to just store the file\n",
    "    compression = zipfile.ZIP_DEFLATED\n",
    "    # create the zip file first parameter path/name, second mode\n",
    "    with zipfile.ZipFile(\"result.zip\", mode=\"w\") as zf:\n",
    "        for file_name in file_names:\n",
    "            # Add file to the zip file\n",
    "            # first parameter file to zip, second filename in zip\n",
    "            zf.write('./' + file_name, file_name, compress_type=compression)\n",
    "\n",
    "\n",
    "file_names = [\"answers.npz\", \"confidence level.ipynb\"]\n",
    "compress(file_names)\n",
    "\n"
   ]
  }
 ],
 "metadata": {
  "kernelspec": {
   "display_name": "Python 3 (ipykernel)",
   "language": "python",
   "name": "python3"
  },
  "language_info": {
   "codemirror_mode": {
    "name": "ipython",
    "version": 3
   },
   "file_extension": ".py",
   "mimetype": "text/x-python",
   "name": "python",
   "nbconvert_exporter": "python",
   "pygments_lexer": "ipython3",
   "version": "3.10.6"
  },
  "latex_envs": {
   "LaTeX_envs_menu_present": true,
   "autoclose": false,
   "autocomplete": true,
   "bibliofile": "biblio.bib",
   "cite_by": "apalike",
   "current_citInitial": 1,
   "eqLabelWithNumbers": true,
   "eqNumInitial": 1,
   "hotkeys": {
    "equation": "Ctrl-E",
    "itemize": "Ctrl-I"
   },
   "labels_anchors": false,
   "latex_user_defs": false,
   "report_style_numbering": false,
   "user_envs_cfg": false
  },
  "toc": {
   "base_numbering": 1,
   "nav_menu": {},
   "number_sections": true,
   "sideBar": true,
   "skip_h1_title": false,
   "title_cell": "Table of Contents",
   "title_sidebar": "Contents",
   "toc_cell": false,
   "toc_position": {},
   "toc_section_display": true,
   "toc_window_display": false
  },
  "varInspector": {
   "cols": {
    "lenName": 16,
    "lenType": 16,
    "lenVar": 40
   },
   "kernels_config": {
    "python": {
     "delete_cmd_postfix": "",
     "delete_cmd_prefix": "del ",
     "library": "var_list.py",
     "varRefreshCmd": "print(var_dic_list())"
    },
    "r": {
     "delete_cmd_postfix": ") ",
     "delete_cmd_prefix": "rm(",
     "library": "var_list.r",
     "varRefreshCmd": "cat(var_dic_list()) "
    }
   },
   "types_to_exclude": [
    "module",
    "function",
    "builtin_function_or_method",
    "instance",
    "_Feature"
   ],
   "window_display": false
  },
  "vscode": {
   "interpreter": {
    "hash": "f694d1f69ac7b0365aec8f3bd0d72430372becc5f8fcce5b5ecac5df30234c5e"
   }
  }
 },
 "nbformat": 4,
 "nbformat_minor": 2
}
