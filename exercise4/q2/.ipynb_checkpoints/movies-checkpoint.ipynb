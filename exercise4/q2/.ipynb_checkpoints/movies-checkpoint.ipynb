{
 "cells": [
  {
   "cell_type": "markdown",
   "metadata": {},
   "source": [
    "<h1 align=center style=\"line-height:200%;font-family:vazir;color:#0099cc\">\n",
    "<font face=\"vazir\" color=\"#0099cc\">\n",
    "فیلم بازی\n",
    "</font>\n",
    "</h1>"
   ]
  },
  {
   "cell_type": "markdown",
   "metadata": {},
   "source": [
    "<p dir=rtl style=\"direction: rtl; text-align: justify; line-height:200%; font-family:vazir; font-size:medium\">\n",
    "<font face=\"vazir\" size=3>\n",
    "در ابتدا چون نیاز به توابع کتابخانه‌ی <code>pandas</code> داریم، نیاز است آن را <code>import</code> کنیم.\n",
    "</font>\n",
    "</p>"
   ]
  },
  {
   "cell_type": "code",
   "execution_count": 1,
   "metadata": {
    "jupyter": {
     "outputs_hidden": false
    },
    "pycharm": {
     "name": "#%%\n"
    }
   },
   "outputs": [],
   "source": [
    "import pandas as pd"
   ]
  },
  {
   "cell_type": "markdown",
   "metadata": {},
   "source": [
    "<p dir=rtl style=\"direction: rtl; text-align: justify; line-height:200%; font-family:vazir; font-size:medium\">\n",
    "<font face=\"vazir\" size=3>\n",
    "در کنار این نت‌بوک فایلی به نام <code>dates.csv</code> وجود دارد. آن را به کمک <code>pandas</code> بخوانید.\n",
    "</font>\n",
    "</p>"
   ]
  },
  {
   "cell_type": "code",
   "execution_count": null,
   "metadata": {
    "jupyter": {
     "outputs_hidden": false
    },
    "pycharm": {
     "name": "#%%\n"
    }
   },
   "outputs": [],
   "source": [
    "df = # TO-DO"
   ]
  },
  {
   "cell_type": "markdown",
   "metadata": {},
   "source": [
    "<p dir=rtl style=\"direction: rtl; text-align: justify; line-height:200%; font-family:vazir; font-size:medium\">\n",
    "<font face=\"vazir\" size=3>\n",
    "می‌توانید با استفاده از متد <code>describe</code> خلاصه‌ای از اطلاعات هر ستون را مشاهده کنید.\n",
    "</font>\n",
    "</p>"
   ]
  },
  {
   "cell_type": "code",
   "execution_count": null,
   "metadata": {},
   "outputs": [],
   "source": [
    "# TO-DO"
   ]
  },
  {
   "cell_type": "markdown",
   "metadata": {},
   "source": [
    "<p dir=rtl style=\"direction: rtl; text-align: justify; line-height:200%; font-family:vazir; font-size:medium\">\n",
    "<font face=\"vazir\" size=3>\n",
    "می‌توانید به وسیله‌ی متد <code>head</code> چند ردیف اول از داده‌ها را مشاهده کنید.\n",
    "</font>\n",
    "</p>"
   ]
  },
  {
   "cell_type": "code",
   "execution_count": null,
   "metadata": {},
   "outputs": [],
   "source": [
    "# TO-DO"
   ]
  },
  {
   "cell_type": "markdown",
   "metadata": {},
   "source": [
    "<p dir=rtl style=\"direction: rtl; text-align: justify; line-height:200%; font-family:vazir; font-size:medium\">\n",
    "<font face=\"vazir\" size=3>\n",
    "در <code>pandas</code> وقتی نام ستونی در فایل <code>csv</code> ذکر نشده باشد، آن را به‌صورت <code>Unnamed: i</code> نام‌گذاری می‌کند که <code>i</code> نشان‌دهنده‌ی <code>i</code> ستون بدون نام <code>i</code> اُم است.\n",
    "<br>\n",
    "اگر به کمک دستور <code>head</code> بخشی از داده را مشاهده کرده باشید، مشاهده کرده‌اید که یک ستون <code>Unnamed</code> در این مجموعه‌داده وجود دارد.\n",
    "<br>\n",
    "به کمک متد <code>drop</code> این ستون را حذف کنید.\n",
    "<br>\n",
    "توجه داشته باشید که اگر از ویژگی <code>inplace</code> دستور <code>drop</code> استفاده نکرده باشید، این دستور یک دیتافریم جدید بر می‌گرداند و باید آن را مجدد در متغیر ذخیره کنید. در غیر این‌صورت می‌توانید از <code>inplace=True</code> استفاده کنید.\n",
    "</font>\n",
    "</p>"
   ]
  },
  {
   "cell_type": "code",
   "execution_count": null,
   "metadata": {
    "jupyter": {
     "outputs_hidden": false
    },
    "pycharm": {
     "name": "#%%\n"
    }
   },
   "outputs": [],
   "source": [
    "# TO-DO"
   ]
  },
  {
   "cell_type": "markdown",
   "metadata": {},
   "source": [
    "<p dir=rtl style=\"direction: rtl; text-align: justify; line-height:200%; font-family:vazir; font-size:medium\">\n",
    "<font face=\"vazir\" size=3>\n",
    "اکنون اگر به نوع (<code>type</code>) ستون‌های دیتافریم نگاهی بی‌اندازید مشاهده می‌کنید که نوع ستون <code>date</code> از نوع کلی <code>object</code> می‌باشد، در حالی‌که می‌دانیم این ستون باید از نوع <code>datatime</code> باشد.\n",
    "<br>\n",
    "یکی از قابلیت‌های کتابخانه‌ی <code>pandas</code> تبدیل ستون از نوع رشته با فرمت خاص به نوع <code>datetime</code> می‌باشد. این کار باعث راحت‌تر شدن فیلتر کردن تاریخ و کار با داده‌های از جنس <code>datetime</code> می‌شود.\n",
    "</font>\n",
    "</p>"
   ]
  },
  {
   "cell_type": "code",
   "execution_count": null,
   "metadata": {},
   "outputs": [],
   "source": [
    "print(df.dtypes)"
   ]
  },
  {
   "cell_type": "code",
   "execution_count": null,
   "metadata": {},
   "outputs": [],
   "source": [
    "df[\"formatted_date\"]  = pd.to_datetime(df[\"date\"])\n",
    "\n",
    "print(df.dtypes)"
   ]
  },
  {
   "cell_type": "markdown",
   "metadata": {},
   "source": [
    "<p dir=rtl style=\"direction: rtl; text-align: justify; line-height:200%; font-family:vazir; font-size:medium\">\n",
    "<font face=\"vazir\" size=3>\n",
    "اکنون اگر ستون <code>formatted_date</code> را به‌عنوان <code>index</code> برای دیتافریم انتخاب کنید، می‌توانید فیلترهای خیلی ساده‌تری بر روی تاریخ اعمال کنید و به‌راحتی در بازه‌های زمانی، تحلیل خود را انجام دهید.\n",
    "<br>\n",
    "می‌توانید این کار را \n",
    "با استفاده از متد <code>set_index</code>\n",
    "(<a href=\"https://pandas.pydata.org/pandas-docs/stable/reference/api/pandas.DataFrame.set_index.html\">مطالعه‌ی مستندات</a>) انجام دهید.\n",
    "</font>\n",
    "</p>"
   ]
  },
  {
   "cell_type": "code",
   "execution_count": null,
   "metadata": {},
   "outputs": [],
   "source": [
    "# TO-DO"
   ]
  },
  {
   "cell_type": "code",
   "execution_count": null,
   "metadata": {},
   "outputs": [],
   "source": [
    "df[\"2015-5\":\"2015-5\"]"
   ]
  },
  {
   "cell_type": "markdown",
   "metadata": {},
   "source": [
    "<p dir=rtl style=\"direction: rtl; text-align: justify; line-height:200%; font-family:vazir; font-size:medium\">\n",
    "<font face=\"vazir\" size=3>\n",
    "یکی دیگر از متدها‌ی <code>pandas</code> که کار را برای پردازش داده‌های رشته‌ای بسیار راحت می‌کند متد <code>str</code> است. با استفاده از این متد می‌توانید فیلترهایی به شکل <code>regex</code> را بر روی داده‌های رشته‌ای اعمال کنید.\n",
    "<br>\n",
    "به‌طور مثال می‌خواهیم تمام فیلم‌هایی که نام کشور آن‌ها فاقد فاصله (space) هستند و سال ساخت آن‌ها ماه دسامبر ۲۰۰۵ می‌باشد را فیلتر کنیم: \n",
    "</font>\n",
    "</p>"
   ]
  },
  {
   "cell_type": "code",
   "execution_count": null,
   "metadata": {},
   "outputs": [],
   "source": [
    "m_2005 = df[\"2005-12\"]\n",
    "m_2005[m_2005['country'].str.match(r\"\\S\")]"
   ]
  },
  {
   "cell_type": "markdown",
   "metadata": {},
   "source": [
    "<p dir=rtl style=\"direction: rtl; text-align: justify; line-height:200%; font-family:vazir; font-size:medium\">\n",
    "<font face=\"vazir\" size=3>\n",
    "برای این تمرین شما بایستی پس از حذف ستون <code>Unnamed: i</code> تمامی فیلم‌هایی که در بازه‌ی زمانی <code>2000-11</code> تا <code>2018-11</code> ساخته شده‌اند و اول نام فیلم‌ها با حرف <code>B</code> شروع می‌شود را فیلتر کرده و مقادیر خروجی را با توجه به <code>index</code> و با کمک متد <code>sort_index</code>\n",
    "(<a href=\"https://pandas.pydata.org/pandas-docs/stable/reference/api/pandas.DataFrame.sort_index.html\">مطالعه‌ی مستندات</a>)\n",
    "مرتب کرده و در فایلی به نام <code>sample.csv</code> ذخیره کنید.\n",
    "</font>\n",
    "</p>\n",
    "\n",
    "<p dir=rtl style=\"direction: rtl; text-align: justify; line-height:200%; font-family:vazir; font-size:medium\">\n",
    "<font face=\"vazir\" size=3 color=\"red\">\n",
    "توجه:\n",
    "</font>\n",
    "<font face=\"vazir\" size=3>\n",
    "نام متغیر نهایی را از <code>filtered_df</code> تغییر ندهید.\n",
    "</font>\n",
    "</font>\n",
    "</p>"
   ]
  },
  {
   "cell_type": "code",
   "execution_count": null,
   "metadata": {},
   "outputs": [],
   "source": [
    "filtered_df = # To-Do"
   ]
  },
  {
   "cell_type": "markdown",
   "metadata": {},
   "source": [
    "<p dir=rtl style=\"direction: rtl; text-align: justify; line-height:200%; font-family:vazir; font-size:medium\">\n",
    "<font face=\"vazir\" size=3>\n",
    "برای بررسی پاسخ خود می‌توانید از سلول‌های زیر استفاده کنید.\n",
    "<br>\n",
    "در سلول نخست، مقادیر ستون‌های اولین ردیف از جدول شما بررسی می‌شود.\n",
    "<br>\n",
    "در سلول بعدی <code>index</code> اولین ردیف شما بررسی می‌شود.\n",
    "<br>\n",
    "همچنین در سلول آخر، ابعاد (<code>shape</code>) دیتافریم خروجی شما بررسی می‌شود.\n",
    "</font>\n",
    "</p>\n"
   ]
  },
  {
   "cell_type": "code",
   "execution_count": null,
   "metadata": {},
   "outputs": [],
   "source": [
    "assert filtered_df.iloc[0].to_dict() == {'title': 'Bless the Child','year': 2000, 'country': 'Iceland', 'date': '2001-01-12'}"
   ]
  },
  {
   "cell_type": "code",
   "execution_count": null,
   "metadata": {},
   "outputs": [],
   "source": [
    "assert filtered_df.head(1).index == '2001-01-12'"
   ]
  },
  {
   "cell_type": "code",
   "execution_count": null,
   "metadata": {},
   "outputs": [],
   "source": [
    "assert filtered_df.shape == (99, 4)"
   ]
  },
  {
   "cell_type": "markdown",
   "metadata": {},
   "source": [
    "<p dir=rtl style=\"direction: rtl; text-align: justify; line-height:200%; font-family:vazir; font-size:medium\">\n",
    "<font face=\"vazir\" size=3>\n",
    "متد <code>to_csv</code> را بدون هیچ پارامتر دیگری به جز نام فایل یعنی <code>sample.csv</code> صدا بزنید و مقادیر پیش‌فرض <code>header</code> و <code>index</code> را تغییر ندهید. یعنی به شکل زیر:\n",
    "</font>\n",
    "</p>\n"
   ]
  },
  {
   "cell_type": "code",
   "execution_count": null,
   "metadata": {
    "jupyter": {
     "outputs_hidden": false
    },
    "pycharm": {
     "name": "#%%\n"
    }
   },
   "outputs": [],
   "source": [
    "filtered_df.to_csv('sample.csv')"
   ]
  },
  {
   "cell_type": "markdown",
   "metadata": {},
   "source": [
    "<h2 align=right style=\"line-height:200%;font-family:vazir;color:#0099cc\">\n",
    "<font face=\"vazir\" color=\"#0099cc\">\n",
    "<b>سلول جواب‌ساز</b>\n",
    "</font>\n",
    "</h2>\n",
    "\n",
    "<p dir=rtl style=\"direction: rtl; text-align: justify; line-height:200%; font-family:vazir; font-size:medium\">\n",
    "<font face=\"vazir\" size=3>\n",
    "    برای ساخته‌شدن فایل <code>result.zip</code> سلول زیر را اجرا کنید. توجه داشته باشید که پیش از اجرای سلول زیر تغییرات اعمال شده در نت‌بوک را ذخیره کرده باشید (<code>ctrl+s</code>) تا در صورت نیاز به راهنمایی امکان بررسی کد شما وجود داشته باشد.\n",
    "</font>\n",
    "</p>"
   ]
  },
  {
   "cell_type": "code",
   "execution_count": null,
   "metadata": {},
   "outputs": [],
   "source": [
    "import zlib\n",
    "import zipfile\n",
    "\n",
    "def compress(file_names):\n",
    "    print(\"File Paths:\")\n",
    "    print(file_names)\n",
    "    compression = zipfile.ZIP_DEFLATED\n",
    "    with zipfile.ZipFile(\"result.zip\", mode=\"w\") as zf:\n",
    "        for file_name in file_names:\n",
    "            zf.write('./'+file_name, file_name, compress_type=compression)\n",
    "\n",
    "file_names= [\"sample.csv\", \"movies.ipynb\"]\n",
    "compress(file_names)"
   ]
  }
 ],
 "metadata": {
  "kernelspec": {
   "display_name": "Python 3 (ipykernel)",
   "language": "python",
   "name": "python3"
  },
  "language_info": {
   "codemirror_mode": {
    "name": "ipython",
    "version": 3
   },
   "file_extension": ".py",
   "mimetype": "text/x-python",
   "name": "python",
   "nbconvert_exporter": "python",
   "pygments_lexer": "ipython3",
   "version": "3.10.6"
  },
  "pycharm": {
   "stem_cell": {
    "cell_type": "raw",
    "metadata": {
     "collapsed": false
    },
    "source": []
   }
  },
  "vscode": {
   "interpreter": {
    "hash": "44e7e1b8fa2096bd5707ed7fd18b1724a2db25f4c565a7673f8b6e7bfc49d25d"
   }
  }
 },
 "nbformat": 4,
 "nbformat_minor": 4
}
